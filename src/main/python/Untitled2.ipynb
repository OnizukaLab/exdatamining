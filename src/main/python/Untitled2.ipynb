{
 "cells": [
  {
   "cell_type": "code",
   "execution_count": 3,
   "metadata": {},
   "outputs": [],
   "source": [
    "import pandas as pd\n",
    "import glob as glob"
   ]
  },
  {
   "cell_type": "code",
   "execution_count": 41,
   "metadata": {},
   "outputs": [],
   "source": [
    "res_dir = \"../../../results/ResLOF/*\""
   ]
  },
  {
   "cell_type": "code",
   "execution_count": 42,
   "metadata": {},
   "outputs": [],
   "source": [
    "csv_path_arry = glob.glob(res_dir)"
   ]
  },
  {
   "cell_type": "code",
   "execution_count": 43,
   "metadata": {},
   "outputs": [],
   "source": [
    "def bench4(csv_path_ary):\n",
    "    for csv_path in csv_path_ary:\n",
    "        tmp_df = pd.read_csv(csv_path)\n",
    "\n",
    "        if 'df' in locals():\n",
    "            df = pd.concat([df, tmp_df])\n",
    "        else:\n",
    "            df = tmp_df\n",
    "    return df"
   ]
  },
  {
   "cell_type": "code",
   "execution_count": 44,
   "metadata": {},
   "outputs": [],
   "source": [
    "df = bench4(csv_path_arry)"
   ]
  },
  {
   "cell_type": "code",
   "execution_count": 45,
   "metadata": {},
   "outputs": [
    {
     "data": {
      "text/html": [
       "<div>\n",
       "<style scoped>\n",
       "    .dataframe tbody tr th:only-of-type {\n",
       "        vertical-align: middle;\n",
       "    }\n",
       "\n",
       "    .dataframe tbody tr th {\n",
       "        vertical-align: top;\n",
       "    }\n",
       "\n",
       "    .dataframe thead th {\n",
       "        text-align: right;\n",
       "    }\n",
       "</style>\n",
       "<table border=\"1\" class=\"dataframe\">\n",
       "  <thead>\n",
       "    <tr style=\"text-align: right;\">\n",
       "      <th></th>\n",
       "      <th>object_id</th>\n",
       "      <th>meas_rcmodel_mag</th>\n",
       "      <th>meas_rcmodel_mag_err</th>\n",
       "    </tr>\n",
       "  </thead>\n",
       "  <tbody>\n",
       "    <tr>\n",
       "      <th>count</th>\n",
       "      <td>5.944000e+03</td>\n",
       "      <td>5944.000000</td>\n",
       "      <td>5944.000000</td>\n",
       "    </tr>\n",
       "    <tr>\n",
       "      <th>mean</th>\n",
       "      <td>4.363188e+16</td>\n",
       "      <td>22.637402</td>\n",
       "      <td>0.017941</td>\n",
       "    </tr>\n",
       "    <tr>\n",
       "      <th>std</th>\n",
       "      <td>8.497866e+15</td>\n",
       "      <td>1.331483</td>\n",
       "      <td>0.052593</td>\n",
       "    </tr>\n",
       "    <tr>\n",
       "      <th>min</th>\n",
       "      <td>3.641146e+16</td>\n",
       "      <td>15.754000</td>\n",
       "      <td>0.000262</td>\n",
       "    </tr>\n",
       "    <tr>\n",
       "      <th>25%</th>\n",
       "      <td>4.110884e+16</td>\n",
       "      <td>22.016650</td>\n",
       "      <td>0.006588</td>\n",
       "    </tr>\n",
       "    <tr>\n",
       "      <th>50%</th>\n",
       "      <td>4.204203e+16</td>\n",
       "      <td>23.096450</td>\n",
       "      <td>0.015421</td>\n",
       "    </tr>\n",
       "    <tr>\n",
       "      <th>75%</th>\n",
       "      <td>4.264444e+16</td>\n",
       "      <td>23.632275</td>\n",
       "      <td>0.025086</td>\n",
       "    </tr>\n",
       "    <tr>\n",
       "      <th>max</th>\n",
       "      <td>7.464916e+16</td>\n",
       "      <td>23.999900</td>\n",
       "      <td>3.884650</td>\n",
       "    </tr>\n",
       "  </tbody>\n",
       "</table>\n",
       "</div>"
      ],
      "text/plain": [
       "          object_id  meas_rcmodel_mag  meas_rcmodel_mag_err\n",
       "count  5.944000e+03       5944.000000           5944.000000\n",
       "mean   4.363188e+16         22.637402              0.017941\n",
       "std    8.497866e+15          1.331483              0.052593\n",
       "min    3.641146e+16         15.754000              0.000262\n",
       "25%    4.110884e+16         22.016650              0.006588\n",
       "50%    4.204203e+16         23.096450              0.015421\n",
       "75%    4.264444e+16         23.632275              0.025086\n",
       "max    7.464916e+16         23.999900              3.884650"
      ]
     },
     "execution_count": 45,
     "metadata": {},
     "output_type": "execute_result"
    }
   ],
   "source": [
    "df.describe()"
   ]
  },
  {
   "cell_type": "code",
   "execution_count": 46,
   "metadata": {},
   "outputs": [
    {
     "data": {
      "text/html": [
       "<div>\n",
       "<style scoped>\n",
       "    .dataframe tbody tr th:only-of-type {\n",
       "        vertical-align: middle;\n",
       "    }\n",
       "\n",
       "    .dataframe tbody tr th {\n",
       "        vertical-align: top;\n",
       "    }\n",
       "\n",
       "    .dataframe thead th {\n",
       "        text-align: right;\n",
       "    }\n",
       "</style>\n",
       "<table border=\"1\" class=\"dataframe\">\n",
       "  <thead>\n",
       "    <tr style=\"text-align: right;\">\n",
       "      <th></th>\n",
       "      <th>object_id</th>\n",
       "      <th>meas_rcmodel_mag</th>\n",
       "      <th>meas_rcmodel_mag_err</th>\n",
       "      <th>OutlierFlg</th>\n",
       "    </tr>\n",
       "  </thead>\n",
       "  <tbody>\n",
       "    <tr>\n",
       "      <th>1</th>\n",
       "      <td>37493367982021840</td>\n",
       "      <td>19.7668</td>\n",
       "      <td>0.461521</td>\n",
       "      <td>True</td>\n",
       "    </tr>\n",
       "    <tr>\n",
       "      <th>1</th>\n",
       "      <td>42287771255075037</td>\n",
       "      <td>21.8295</td>\n",
       "      <td>0.032336</td>\n",
       "      <td>True</td>\n",
       "    </tr>\n",
       "    <tr>\n",
       "      <th>1</th>\n",
       "      <td>37493505420954769</td>\n",
       "      <td>18.1869</td>\n",
       "      <td>0.327619</td>\n",
       "      <td>True</td>\n",
       "    </tr>\n",
       "    <tr>\n",
       "      <th>1</th>\n",
       "      <td>37493367981999968</td>\n",
       "      <td>20.5486</td>\n",
       "      <td>0.157343</td>\n",
       "      <td>True</td>\n",
       "    </tr>\n",
       "    <tr>\n",
       "      <th>0</th>\n",
       "      <td>41227992369750562</td>\n",
       "      <td>22.7207</td>\n",
       "      <td>0.059928</td>\n",
       "      <td>True</td>\n",
       "    </tr>\n",
       "    <tr>\n",
       "      <th>1</th>\n",
       "      <td>43699552775076414</td>\n",
       "      <td>22.8208</td>\n",
       "      <td>0.062564</td>\n",
       "      <td>True</td>\n",
       "    </tr>\n",
       "    <tr>\n",
       "      <th>0</th>\n",
       "      <td>37493363687060766</td>\n",
       "      <td>20.4737</td>\n",
       "      <td>3.884650</td>\n",
       "      <td>True</td>\n",
       "    </tr>\n",
       "    <tr>\n",
       "      <th>0</th>\n",
       "      <td>37493505420972825</td>\n",
       "      <td>21.4306</td>\n",
       "      <td>0.290677</td>\n",
       "      <td>True</td>\n",
       "    </tr>\n",
       "    <tr>\n",
       "      <th>0</th>\n",
       "      <td>37498165460498330</td>\n",
       "      <td>19.6733</td>\n",
       "      <td>0.106337</td>\n",
       "      <td>True</td>\n",
       "    </tr>\n",
       "    <tr>\n",
       "      <th>0</th>\n",
       "      <td>42652688856418707</td>\n",
       "      <td>22.2891</td>\n",
       "      <td>0.057285</td>\n",
       "      <td>True</td>\n",
       "    </tr>\n",
       "  </tbody>\n",
       "</table>\n",
       "</div>"
      ],
      "text/plain": [
       "           object_id  meas_rcmodel_mag  meas_rcmodel_mag_err  OutlierFlg\n",
       "1  37493367982021840           19.7668              0.461521        True\n",
       "1  42287771255075037           21.8295              0.032336        True\n",
       "1  37493505420954769           18.1869              0.327619        True\n",
       "1  37493367981999968           20.5486              0.157343        True\n",
       "0  41227992369750562           22.7207              0.059928        True\n",
       "1  43699552775076414           22.8208              0.062564        True\n",
       "0  37493363687060766           20.4737              3.884650        True\n",
       "0  37493505420972825           21.4306              0.290677        True\n",
       "0  37498165460498330           19.6733              0.106337        True\n",
       "0  42652688856418707           22.2891              0.057285        True"
      ]
     },
     "execution_count": 46,
     "metadata": {},
     "output_type": "execute_result"
    }
   ],
   "source": [
    "df[ df['OutlierFlg'] == True ]"
   ]
  },
  {
   "cell_type": "code",
   "execution_count": 47,
   "metadata": {},
   "outputs": [],
   "source": [
    "import matplotlib.pyplot as plt"
   ]
  },
  {
   "cell_type": "code",
   "execution_count": 57,
   "metadata": {},
   "outputs": [
    {
     "data": {
      "text/plain": [
       "(0, 0.6)"
      ]
     },
     "execution_count": 57,
     "metadata": {},
     "output_type": "execute_result"
    },
    {
     "data": {
      "image/png": "[encoded data removed]",
      "text/plain": [
       "<Figure size 432x288 with 1 Axes>"
      ]
     },
     "metadata": {
      "needs_background": "light"
     },
     "output_type": "display_data"
    }
   ],
   "source": [
    "plt.scatter( df[ df['OutlierFlg'] == True ]['meas_rcmodel_mag'], df[ df['OutlierFlg'] == True ]['meas_rcmodel_mag_err'] )\n",
    "plt.scatter( df[ df['OutlierFlg'] == False ]['meas_rcmodel_mag'], df[ df['OutlierFlg'] == False ]['meas_rcmodel_mag_err'] )\n",
    "plt.ylim([0,0.6])\n",
    "\n",
    "#plt.savefig(\"sample.png\")"
   ]
  },
  {
   "cell_type": "code",
   "execution_count": null,
   "metadata": {},
   "outputs": [],
   "source": []
  }
 ],
 "metadata": {
  "kernelspec": {
   "display_name": "Python 3",
   "language": "python",
   "name": "python3"
  },
  "language_info": {
   "codemirror_mode": {
    "name": "ipython",
    "version": 3
   },
   "file_extension": ".py",
   "mimetype": "text/x-python",
   "name": "python",
   "nbconvert_exporter": "python",
   "pygments_lexer": "ipython3",
   "version": "3.6.7"
  }
 },
 "nbformat": 4,
 "nbformat_minor": 2
}
